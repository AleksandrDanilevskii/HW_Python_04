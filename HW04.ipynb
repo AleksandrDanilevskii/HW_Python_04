{
 "cells": [
  {
   "cell_type": "markdown",
   "metadata": {},
   "source": [
    "# **HW-04**\n",
    "Данилевского Александра"
   ]
  },
  {
   "cell_type": "code",
   "execution_count": 2,
   "metadata": {},
   "outputs": [],
   "source": [
    "import numpy as np\n",
    "import random"
   ]
  },
  {
   "cell_type": "markdown",
   "metadata": {},
   "source": [
    "<div style=\"clear:both;\"></div>\n",
    "<hr style=\"float:left;width:100%;border-top: 3px double #8c8b8b;\">\n",
    "<div style=\"clear:both;\"></div>"
   ]
  },
  {
   "cell_type": "markdown",
   "metadata": {},
   "source": [
    "# Аттрактор Лоренца"
   ]
  },
  {
   "cell_type": "markdown",
   "metadata": {},
   "source": [
    "##  Задача №1. Простое решение\n",
    "\n",
    "<br>\n",
    "<font size=4> \n",
    "Система\n",
    "</font>\n",
    "<br>\n",
    "<br>\n",
    "$\n",
    "\\Large\n",
    "\\begin{cases}\n",
    "   \\dot{x} = \\sigma (y - x), \n",
    "   \\\\\n",
    "   \\dot{y} = x (\\rho - z) - y,\n",
    "   \\\\\n",
    "   \\dot{z} = x y - \\beta z\n",
    " \\end{cases}\\normalsize\n",
    " $\n",
    "<br>\n",
    "<font size=4> \n",
    "Стандартные значения - $\\sigma=10, \\rho=28, \\beta=2.667$\n",
    "</font>\n",
    "<br>\n",
    "\n",
    "__Требования__:\n",
    "- Не использовать интеграторы и массивы numpy, точки высчитывать в цикле\n",
    "- Начальные данные - $(0., 1., 1.01)$\n",
    "- Количество точек - $10^4$\n",
    "- Подписать рисунок и оси\n",
    "- label со значениями $\\sigma=10, \\rho=28, \\beta=2.667$\n"
   ]
  },
  {
   "cell_type": "code",
   "execution_count": 4,
   "metadata": {},
   "outputs": [],
   "source": [
    "#%%writefile my_pkg/lorenz.py\n",
    "#'Пакет для построения графика аттрактора Лоренца'\n",
    "\n",
    "def plotLorenzAttractor(xx, yy, zz,*,sigma = 10, rho = 28, beta = 2.667):\n",
    "    \n",
    "    '''Построение графика решения системы Лоренца'''\n",
    "    \n",
    "    import matplotlib.pyplot as plt\n",
    "    from mpl_toolkits.mplot3d import Axes3D\n",
    "    \n",
    "    fig = plt.figure()\n",
    "    ax = fig.gca(projection='3d')\n",
    "    ax.plot(xx, yy, zz, lw=0.5)\n",
    "    ax.set_xlabel(\"X\")\n",
    "    ax.set_ylabel(\"Y\")\n",
    "    ax.set_zlabel(\"Z\")\n",
    "    ax.set_title(\"Lorenz Attractor\")\n",
    "    ax.text(0,0,0, r'$\\sigma={0}, \\varrho={1}, \\beta={2}$'.format(sigma,rho,beta),\n",
    "            horizontalalignment='center',\n",
    "            verticalalignment='center',\n",
    "            transform = ax.transAxes)\n",
    "    plt.show()"
   ]
  },
  {
   "cell_type": "code",
   "execution_count": 29,
   "metadata": {
    "scrolled": false
   },
   "outputs": [],
   "source": [
    "#%%writefile -a my_pkg/lorenz.py\n",
    "\n",
    "def lorenzAttractor1(sigma = 10, rho = 28, beta = 2.667, initialdata = (0.,1.,1.01), dt = 0.01, npoint = 10**4, plot = True):\n",
    "    \n",
    "    '''Функция строит аттрактор Лоренца'''\n",
    "    \n",
    "    xx = [0]*(npoint); yy = [0]*(npoint); zz = [0]*(npoint)\n",
    "    xx[0], yy[0], zz[0] = initialdata\n",
    "\n",
    "    for i in range(npoint-1):\n",
    "        dx = sigma*(yy[i] - xx[i])\n",
    "        dy = xx[i]*(rho-zz[i])-yy[i]\n",
    "        dz = xx[i]*yy[i] - beta*zz[i]\n",
    "        xx[i + 1] = (dx * dt)+xx[i]\n",
    "        yy[i + 1] = (dy * dt)+yy[i]\n",
    "        zz[i + 1] = (dz * dt)+zz[i]\n",
    "\n",
    "    if plot: plotLorenzAttractor(xx, yy, zz)"
   ]
  },
  {
   "cell_type": "markdown",
   "metadata": {},
   "source": [
    "<div style=\"clear:both;\"></div>\n",
    "<hr style=\"float:left;width:100%;border-top: 3px double #8c8b8b;\">\n",
    "<div style=\"clear:both;\"></div>"
   ]
  },
  {
   "cell_type": "markdown",
   "metadata": {},
   "source": [
    "##  Задача №2. Чуть сложнее\n",
    "\n",
    "Аттрактор Лоренца, но другие требования:\n",
    "\n",
    "- Использовать numpy массивы, не использовать интегрирование из scipy\n",
    "- Начальные данные - $(0., 1., 1.01)$\n",
    "- Количество точек - $10^4$\n",
    "- Для вычисления очередной точки использовать специальную функцию `lorenz(...)`, причем\n",
    "    - `lorenz(x, y, z)` считает производные при стандартных значениях $\\sigma=10, \\rho=28, \\beta=2.667$\n",
    "    - если нужны другие значения $\\sigma, \\rho, \\beta$, то вызывать можно только как `lorenz(x, y, z, sigma=..., beta=..., rho=...)`\n",
    "- Подписать рисунок и оси\n",
    "- label со значениями $\\sigma, \\rho, \\beta$, для которых построена фигура"
   ]
  },
  {
   "cell_type": "code",
   "execution_count": 30,
   "metadata": {
    "scrolled": true
   },
   "outputs": [],
   "source": [
    "#%%writefile -a my_pkg/lorenz.py\n",
    "\n",
    "def lorenzAttractor2(sigma = 10, rho = 28, beta = 2.667, initialdata = (0.,1.,1.01), dt = 0.01, npoint = 10**4, plot = True):\n",
    "    \n",
    "    '''Построение графика решения системы Лоренца c использованием numpy'''\n",
    "    \n",
    "    import numpy as np\n",
    "    \n",
    "    xx = [0]*(npoint); yy = [0]*(npoint); zz = [0]*(npoint)\n",
    "    xx[0], yy[0], zz[0] = initialdata\n",
    "    \n",
    "    def lorenz(u,*,sigma = 10, beta = 2.667, rho = 28):\n",
    "        x,y,z=u\n",
    "        return [sigma*(y - x), x*(rho-z)-y, x*y - beta*z]\n",
    "\n",
    "    for i in range(npoint-1):   \n",
    "        dx,dy,dz = lorenz((xx[i],yy[i],zz[i]))\n",
    "        xx[i + 1] = dx*dt+xx[i]\n",
    "        yy[i + 1] = dy*dt+yy[i]\n",
    "        zz[i + 1] = dz*dt+zz[i]\n",
    "        \n",
    "    if plot: plotLorenzAttractor(xx, yy, zz)\n",
    "    "
   ]
  },
  {
   "cell_type": "markdown",
   "metadata": {},
   "source": [
    "<div style=\"clear:both;\"></div>\n",
    "<hr style=\"float:left;width:100%;border-top: 3px double #8c8b8b;\">\n",
    "<div style=\"clear:both;\"></div>"
   ]
  },
  {
   "cell_type": "markdown",
   "metadata": {},
   "source": [
    "##  Задача №3. Сложнее, но короче\n",
    "\n",
    "Аттрактор Лоренца, но требования опять поменялись:\n",
    "\n",
    "- Использовать numpy массивы и интегрирование из scipy (odeint)\n",
    "- Начальные данные - $(0., 1., 1.01)$\n",
    "- Временной интервал - $0...100$\n",
    "- Количество точек - $10^4$\n",
    "- Для вычисления очередной точки использовать специальную функцию `lorenz(...)`, причем первый аргумент - кортеж из трех точек; остальное - как в _задаче №2_ (может что-то ещё понадобится, посмотрите сигнатуру `odeint`)\n",
    "- Подписать рисунок и оси\n",
    "- label со значениями $\\sigma, \\rho, \\beta$, для которых построена фигура"
   ]
  },
  {
   "cell_type": "code",
   "execution_count": 32,
   "metadata": {
    "scrolled": false
   },
   "outputs": [],
   "source": [
    "#%%writefile -a my_pkg/lorenz.py\n",
    "\n",
    "def lorenzAttractor3(sigma = 10, rho = 28, beta = 2.667, initialdata = (0.,1.,1.01), npoint = 10**4, plot = True):\n",
    "    '''Построение графика решения системы Лоренца c использованием numpy'''\n",
    "\n",
    "    import numpy as np\n",
    "    from scipy.integrate import odeint\n",
    "    \n",
    "    def lorenz(u,t,*,sigma = 10, beta = 2.667, rho = 28):\n",
    "        x,y,z=u\n",
    "        return [sigma*(y - x), x*(rho-z)-y, x*y - beta*z]\n",
    "    \n",
    "    t = np.linspace(0, 100, npoint)\n",
    "    w = odeint(lorenz, initialdata, t)\n",
    "\n",
    "    if plot: plotLorenzAttractor(w[:,0], w[:,1], w[:,2])\n",
    "    "
   ]
  },
  {
   "cell_type": "markdown",
   "metadata": {},
   "source": [
    "<div style=\"clear:both;\"></div>\n",
    "<hr style=\"float:left;width:100%;border-top: 3px double #8c8b8b;\">\n",
    "<div style=\"clear:both;\"></div>"
   ]
  },
  {
   "cell_type": "markdown",
   "metadata": {},
   "source": [
    "## Задача №4\n",
    "\n",
    "Поместите три написанные функции в собственный пакет"
   ]
  },
  {
   "cell_type": "code",
   "execution_count": 413,
   "metadata": {},
   "outputs": [],
   "source": [
    "%mkdir my_pkg"
   ]
  },
  {
   "cell_type": "code",
   "execution_count": 1,
   "metadata": {},
   "outputs": [
    {
     "name": "stdout",
     "output_type": "stream",
     "text": [
      "Writing my_pkg/__init__.py\n"
     ]
    }
   ],
   "source": [
    "%%writefile my_pkg/__init__.py\n",
    "#!/usr/bin/env python3"
   ]
  },
  {
   "cell_type": "markdown",
   "metadata": {},
   "source": [
    "<div style=\"clear:both;\"></div>\n",
    "<hr style=\"float:left;width:100%;border-top: 3px double #8c8b8b;\">\n",
    "<div style=\"clear:both;\"></div>"
   ]
  },
  {
   "cell_type": "markdown",
   "metadata": {},
   "source": [
    "##  Задача №5. Опциональная\n",
    "\n",
    "Сравните скорости выполнения написанных функций"
   ]
  },
  {
   "cell_type": "code",
   "execution_count": 36,
   "metadata": {
    "scrolled": true
   },
   "outputs": [
    {
     "name": "stdout",
     "output_type": "stream",
     "text": [
      "9.89 ms ± 210 µs per loop (mean ± std. dev. of 7 runs, 100 loops each)\n"
     ]
    }
   ],
   "source": [
    "%timeit lorenzAttractor1(plot = False)"
   ]
  },
  {
   "cell_type": "code",
   "execution_count": 37,
   "metadata": {},
   "outputs": [
    {
     "name": "stdout",
     "output_type": "stream",
     "text": [
      "12 ms ± 362 µs per loop (mean ± std. dev. of 7 runs, 100 loops each)\n"
     ]
    }
   ],
   "source": [
    "%timeit lorenzAttractor2(plot = False)"
   ]
  },
  {
   "cell_type": "code",
   "execution_count": 38,
   "metadata": {
    "scrolled": false
   },
   "outputs": [
    {
     "name": "stdout",
     "output_type": "stream",
     "text": [
      "131 ms ± 2.84 ms per loop (mean ± std. dev. of 7 runs, 10 loops each)\n"
     ]
    }
   ],
   "source": [
    "%timeit lorenzAttractor3(plot = False)"
   ]
  },
  {
   "cell_type": "markdown",
   "metadata": {},
   "source": [
    "<div style=\"clear:both;\"></div>\n",
    "<hr style=\"float:left;width:100%;border-top: 3px double #8c8b8b;\">\n",
    "<div style=\"clear:both;\"></div>"
   ]
  },
  {
   "cell_type": "markdown",
   "metadata": {},
   "source": [
    "## Задача №6\n",
    "\n",
    "- сгенерируйте список чисел от 1 до произвольного числа $n$ от 5 до 9 включительно\n",
    "- сделайте из него массив numpy\n",
    "- сгенерируйте случайное число $m$ от 2 до 4 включительно\n",
    "- верните массив numpy в следующей формы: $[1, 0, ..., 0, 2, 0, ..., 0, 3, ... , n, 0, ... , 0]$, где количество нулей между числами равно $m$\n",
    "- преобразуйте полученный массив в двумерный массив так, чтобы в первом столбце были числа $1,2, ... , n$, остальные - $0$"
   ]
  },
  {
   "cell_type": "code",
   "execution_count": 53,
   "metadata": {
    "scrolled": true
   },
   "outputs": [
    {
     "name": "stdout",
     "output_type": "stream",
     "text": [
      "n =  6 ; m =  4\n",
      "a =  [1 2 3 4 5 6]\n",
      "a =  [1 0 0 0 0 2 0 0 0 0 3 0 0 0 0 4 0 0 0 0 5 0 0 0 0 6 0 0 0 0]\n",
      "a =  [[1 0 0 0 0]\n",
      " [2 0 0 0 0]\n",
      " [3 0 0 0 0]\n",
      " [4 0 0 0 0]\n",
      " [5 0 0 0 0]\n",
      " [6 0 0 0 0]]\n"
     ]
    }
   ],
   "source": [
    "n = random.randint(5, 9)\n",
    "m = random.randint(2, 4)\n",
    "print('n = ', n, '; m = ', m)\n",
    "a = np.array(list(range(1,n+1)))\n",
    "z = [0]*m\n",
    "print('a = ', a)\n",
    "for i in range(n, 0, -1):\n",
    "    a= np.insert(a,i,z)\n",
    "print('a = ', a)\n",
    "a.shape = n,m+1\n",
    "print('a = ', a)"
   ]
  }
 ],
 "metadata": {
  "kernelspec": {
   "display_name": "Python 3",
   "language": "python",
   "name": "python3"
  },
  "language_info": {
   "codemirror_mode": {
    "name": "ipython",
    "version": 3
   },
   "file_extension": ".py",
   "mimetype": "text/x-python",
   "name": "python",
   "nbconvert_exporter": "python",
   "pygments_lexer": "ipython3",
   "version": "3.6.5"
  }
 },
 "nbformat": 4,
 "nbformat_minor": 2
}
